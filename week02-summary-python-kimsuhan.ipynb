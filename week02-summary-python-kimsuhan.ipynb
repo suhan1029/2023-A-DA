{
 "cells": [
  {
   "cell_type": "code",
   "execution_count": 4,
   "id": "3dad0fed",
   "metadata": {},
   "outputs": [],
   "source": [
    "import sys as s"
   ]
  },
  {
   "cell_type": "code",
   "execution_count": 3,
   "id": "7067c09b",
   "metadata": {},
   "outputs": [],
   "source": [
    "import numpy as n"
   ]
  },
  {
   "cell_type": "code",
   "execution_count": 5,
   "id": "ebd8777f",
   "metadata": {},
   "outputs": [
    {
     "data": {
      "text/plain": [
       "'3.9.13 (main, Aug 25 2022, 23:51:50) [MSC v.1916 64 bit (AMD64)]'"
      ]
     },
     "execution_count": 5,
     "metadata": {},
     "output_type": "execute_result"
    }
   ],
   "source": [
    "s.version"
   ]
  },
  {
   "cell_type": "markdown",
   "id": "e7eec81f",
   "metadata": {},
   "source": [
    "# 파이썬 자료형"
   ]
  },
  {
   "cell_type": "code",
   "execution_count": 6,
   "id": "a04868e7",
   "metadata": {},
   "outputs": [
    {
     "data": {
      "text/plain": [
       "str"
      ]
     },
     "execution_count": 6,
     "metadata": {},
     "output_type": "execute_result"
    }
   ],
   "source": [
    "type('Hello')"
   ]
  },
  {
   "cell_type": "code",
   "execution_count": 7,
   "id": "7294f93b",
   "metadata": {},
   "outputs": [
    {
     "data": {
      "text/plain": [
       "int"
      ]
     },
     "execution_count": 7,
     "metadata": {},
     "output_type": "execute_result"
    }
   ],
   "source": [
    "type(123)"
   ]
  },
  {
   "cell_type": "code",
   "execution_count": 8,
   "id": "0e2aff85",
   "metadata": {},
   "outputs": [
    {
     "data": {
      "text/plain": [
       "float"
      ]
     },
     "execution_count": 8,
     "metadata": {},
     "output_type": "execute_result"
    }
   ],
   "source": [
    "type(2.46)"
   ]
  },
  {
   "cell_type": "code",
   "execution_count": 9,
   "id": "7b329c89",
   "metadata": {},
   "outputs": [
    {
     "name": "stdout",
     "output_type": "stream",
     "text": [
      "Hi, everyone\n"
     ]
    }
   ],
   "source": [
    "print('Hi, everyone')"
   ]
  },
  {
   "cell_type": "code",
   "execution_count": 10,
   "id": "51ceb5ed",
   "metadata": {},
   "outputs": [
    {
     "name": "stdout",
     "output_type": "stream",
     "text": [
      "2024\n"
     ]
    }
   ],
   "source": [
    "a=2024\n",
    "print(a)"
   ]
  },
  {
   "cell_type": "code",
   "execution_count": 12,
   "id": "25a3ef13",
   "metadata": {},
   "outputs": [
    {
     "name": "stdout",
     "output_type": "stream",
     "text": [
      "여러분 안녕하세요\n"
     ]
    }
   ],
   "source": [
    "b='여러분'\n",
    "print(b+' 안녕하세요')"
   ]
  },
  {
   "cell_type": "code",
   "execution_count": 15,
   "id": "5e9de6ab",
   "metadata": {
    "scrolled": true
   },
   "outputs": [
    {
     "name": "stdout",
     "output_type": "stream",
     "text": [
      "2024년에도 새해 복 많이 받으세요!\n"
     ]
    }
   ],
   "source": [
    "c='새해'\n",
    "print(str(a)+ '년에도 ' + c + ' 복 많이 받으세요!')"
   ]
  },
  {
   "cell_type": "markdown",
   "id": "aebb052b",
   "metadata": {},
   "source": [
    "### 표준입력"
   ]
  },
  {
   "cell_type": "code",
   "execution_count": 16,
   "id": "7b2f0019",
   "metadata": {},
   "outputs": [
    {
     "name": "stdout",
     "output_type": "stream",
     "text": [
      "이름입력 > 김수한\n"
     ]
    }
   ],
   "source": [
    "name = input('이름입력 > ')"
   ]
  },
  {
   "cell_type": "code",
   "execution_count": 17,
   "id": "7929c11c",
   "metadata": {},
   "outputs": [
    {
     "data": {
      "text/plain": [
       "'김수한'"
      ]
     },
     "execution_count": 17,
     "metadata": {},
     "output_type": "execute_result"
    }
   ],
   "source": [
    "name"
   ]
  },
  {
   "cell_type": "code",
   "execution_count": 22,
   "id": "1e475480",
   "metadata": {},
   "outputs": [
    {
     "name": "stdout",
     "output_type": "stream",
     "text": [
      "이름을 입력하세요: 김수한\n",
      "출생년도를 입력하세요: 2001\n",
      "\n",
      "\n",
      "김수한님 안녕하세요!\n",
      "2001년생이시군요!\n"
     ]
    }
   ],
   "source": [
    "name=input('이름을 입력하세요: ')\n",
    "birth=input('출생년도를 입력하세요: ')\n",
    "print('\\n')\n",
    "print(name + '님 안녕하세요!')\n",
    "print(str(birth) + '년생이시군요!')"
   ]
  },
  {
   "cell_type": "code",
   "execution_count": 25,
   "id": "5822cc33",
   "metadata": {},
   "outputs": [
    {
     "name": "stdout",
     "output_type": "stream",
     "text": [
      "이름을 입력하세요: 김수한\n",
      "출생년도를 입력하세요: 2001\n",
      "\n",
      "\n",
      "안녕하세요! 김수한님! 21세이시군요!\n"
     ]
    }
   ],
   "source": [
    "name=input('이름을 입력하세요: ')\n",
    "birth=input('출생년도를 입력하세요: ')\n",
    "age= 2022-int(birth)\n",
    "print('\\n')\n",
    "print('안녕하세요! ' + name + '님! ' + str(age) + '세이시군요!')"
   ]
  },
  {
   "cell_type": "markdown",
   "id": "42a742e6",
   "metadata": {},
   "source": [
    "# 내장 함수"
   ]
  },
  {
   "cell_type": "code",
   "execution_count": 58,
   "id": "10cb89d4",
   "metadata": {},
   "outputs": [],
   "source": [
    "import random as r"
   ]
  },
  {
   "cell_type": "code",
   "execution_count": 61,
   "id": "2b2f88f4",
   "metadata": {},
   "outputs": [
    {
     "name": "stdout",
     "output_type": "stream",
     "text": [
      "68\n"
     ]
    }
   ],
   "source": [
    "dice=r.randint(1, 100)\n",
    "print(dice)"
   ]
  },
  {
   "cell_type": "code",
   "execution_count": 27,
   "id": "ad49bd2f",
   "metadata": {},
   "outputs": [],
   "source": [
    "import math as m"
   ]
  },
  {
   "cell_type": "code",
   "execution_count": 63,
   "id": "81520c55",
   "metadata": {},
   "outputs": [
    {
     "name": "stdout",
     "output_type": "stream",
     "text": [
      "1.4142135623730951\n",
      "3.0\n"
     ]
    }
   ],
   "source": [
    "print(m.sqrt(2))\n",
    "print(m.sqrt(9))"
   ]
  },
  {
   "cell_type": "code",
   "execution_count": 28,
   "id": "e486294d",
   "metadata": {},
   "outputs": [],
   "source": [
    "import pandas as p"
   ]
  },
  {
   "cell_type": "code",
   "execution_count": 29,
   "id": "a18692f1",
   "metadata": {},
   "outputs": [
    {
     "data": {
      "text/plain": [
       "3"
      ]
     },
     "execution_count": 29,
     "metadata": {},
     "output_type": "execute_result"
    }
   ],
   "source": [
    "abs(-3)"
   ]
  },
  {
   "cell_type": "code",
   "execution_count": 30,
   "id": "d73496e6",
   "metadata": {},
   "outputs": [
    {
     "data": {
      "text/plain": [
       "False"
      ]
     },
     "execution_count": 30,
     "metadata": {},
     "output_type": "execute_result"
    }
   ],
   "source": [
    "bool(3>=4)"
   ]
  },
  {
   "cell_type": "code",
   "execution_count": 31,
   "id": "38397fff",
   "metadata": {},
   "outputs": [
    {
     "name": "stdout",
     "output_type": "stream",
     "text": [
      "0\n",
      "1\n",
      "4\n",
      "9\n",
      "16\n"
     ]
    }
   ],
   "source": [
    "for i in range(5):\n",
    "    print(i**2)"
   ]
  },
  {
   "cell_type": "code",
   "execution_count": 32,
   "id": "a3b806fa",
   "metadata": {},
   "outputs": [
    {
     "name": "stdout",
     "output_type": "stream",
     "text": [
      "1 2 3 4 5 6 7 8 9 10 "
     ]
    }
   ],
   "source": [
    "for i in range(1, 11):\n",
    "    print(i, end=' ')"
   ]
  },
  {
   "cell_type": "code",
   "execution_count": 33,
   "id": "703a45b5",
   "metadata": {},
   "outputs": [
    {
     "name": "stdout",
     "output_type": "stream",
     "text": [
      "1 4 7 10 "
     ]
    }
   ],
   "source": [
    "for i in range(1, 11, 3):\n",
    "    print(i, end=' ')"
   ]
  },
  {
   "cell_type": "code",
   "execution_count": 35,
   "id": "9c38ceac",
   "metadata": {},
   "outputs": [
    {
     "name": "stdout",
     "output_type": "stream",
     "text": [
      "10 20 30 "
     ]
    }
   ],
   "source": [
    "for i in (10, 20, 30):\n",
    "    print(i, end=' ')"
   ]
  },
  {
   "cell_type": "code",
   "execution_count": 34,
   "id": "70c7b4f2",
   "metadata": {},
   "outputs": [
    {
     "name": "stdout",
     "output_type": "stream",
     "text": [
      "10 20 30 "
     ]
    }
   ],
   "source": [
    "for i in [10, 20, 30]:\n",
    "    print(i, end=' ')"
   ]
  },
  {
   "cell_type": "code",
   "execution_count": 36,
   "id": "6a2f37d7",
   "metadata": {},
   "outputs": [
    {
     "name": "stdout",
     "output_type": "stream",
     "text": [
      "10 20 30 "
     ]
    }
   ],
   "source": [
    "for i in {10:'십', 20:'이십', 30:'삼십'}:\n",
    "    print(i, end=' ')"
   ]
  },
  {
   "cell_type": "code",
   "execution_count": 39,
   "id": "17c5098a",
   "metadata": {},
   "outputs": [
    {
     "name": "stdout",
     "output_type": "stream",
     "text": [
      "십 이십 삼십 "
     ]
    }
   ],
   "source": [
    "data={10:'십', 20:'이십', 30:'삼십'}\n",
    "for i in data:\n",
    "    print(data[i], end=' ')"
   ]
  },
  {
   "cell_type": "code",
   "execution_count": 41,
   "id": "fa2c349b",
   "metadata": {},
   "outputs": [
    {
     "data": {
      "text/plain": [
       "'십'"
      ]
     },
     "execution_count": 41,
     "metadata": {},
     "output_type": "execute_result"
    }
   ],
   "source": [
    "data[10]"
   ]
  },
  {
   "cell_type": "code",
   "execution_count": 42,
   "id": "f392ad07",
   "metadata": {},
   "outputs": [
    {
     "name": "stdout",
     "output_type": "stream",
     "text": [
      "안녕하세요!\n"
     ]
    }
   ],
   "source": [
    "if(10>0):\n",
    "    print('안녕하세요!')"
   ]
  },
  {
   "cell_type": "code",
   "execution_count": 64,
   "id": "d8409b36",
   "metadata": {},
   "outputs": [
    {
     "name": "stdout",
     "output_type": "stream",
     "text": [
      "패스워드를 입력하세요: 246246\n",
      "로그인에 실패하였습니다.\n"
     ]
    }
   ],
   "source": [
    "password=input('패스워드를 입력하세요: ')\n",
    "if(int(password) == 12345):\n",
    "    print('로그인되었습니다.')\n",
    "elif(int(password) == 11111):\n",
    "    print('관리자 권한입니다.')\n",
    "else:\n",
    "    print('로그인에 실패하였습니다.')"
   ]
  },
  {
   "cell_type": "markdown",
   "id": "7f7dc96d",
   "metadata": {},
   "source": [
    "## 리스트"
   ]
  },
  {
   "cell_type": "code",
   "execution_count": 43,
   "id": "472675a9",
   "metadata": {},
   "outputs": [
    {
     "data": {
      "text/plain": [
       "['월', '화', '수', '목', '금', '토', '일']"
      ]
     },
     "execution_count": 43,
     "metadata": {},
     "output_type": "execute_result"
    }
   ],
   "source": [
    "day=list('월화수목금토일')\n",
    "day"
   ]
  },
  {
   "cell_type": "code",
   "execution_count": 65,
   "id": "2565b246",
   "metadata": {},
   "outputs": [
    {
     "name": "stdout",
     "output_type": "stream",
     "text": [
      "<class 'list'>\n",
      "<class 'list'>\n",
      "<class 'list'>\n"
     ]
    }
   ],
   "source": [
    "arr1=[1, 2, 3, 4, 5]\n",
    "arr2=['월', '화', '수', '목', '금', '토', '일']\n",
    "arr3=[1, 2, 3, 4, 5, '월', '화', '수', '목', '금', '토', '일']\n",
    "print(type(arr1))\n",
    "print(type(arr2))\n",
    "print(type(arr3))"
   ]
  },
  {
   "cell_type": "code",
   "execution_count": 66,
   "id": "05374a05",
   "metadata": {},
   "outputs": [
    {
     "name": "stdout",
     "output_type": "stream",
     "text": [
      "[1, 2, 3, 4, 5]\n",
      "5\n",
      "[1, 2, 3, 4, 5, 6]\n",
      "6\n"
     ]
    }
   ],
   "source": [
    "print(arr1)\n",
    "print(len(arr1))\n",
    "arr1.append(6)\n",
    "print(arr1)\n",
    "print(len(arr1))"
   ]
  },
  {
   "cell_type": "code",
   "execution_count": 67,
   "id": "fe0345dc",
   "metadata": {},
   "outputs": [
    {
     "name": "stdout",
     "output_type": "stream",
     "text": [
      "['월', '화', '수', '목', '금', '토', '일']\n",
      "7\n",
      "['월', '화', '수', '목', '금', '토', '일', '공휴일']\n",
      "8\n"
     ]
    }
   ],
   "source": [
    "print(arr2)\n",
    "print(len(arr2))\n",
    "arr2.append('공휴일')\n",
    "print(arr2)\n",
    "print(len(arr2))"
   ]
  },
  {
   "cell_type": "code",
   "execution_count": 45,
   "id": "24904c02",
   "metadata": {},
   "outputs": [
    {
     "data": {
      "text/plain": [
       "'목'"
      ]
     },
     "execution_count": 45,
     "metadata": {},
     "output_type": "execute_result"
    }
   ],
   "source": [
    "day[3]"
   ]
  },
  {
   "cell_type": "code",
   "execution_count": 46,
   "id": "a33c8f49",
   "metadata": {},
   "outputs": [
    {
     "data": {
      "text/plain": [
       "'금'"
      ]
     },
     "execution_count": 46,
     "metadata": {},
     "output_type": "execute_result"
    }
   ],
   "source": [
    "day[-3]"
   ]
  },
  {
   "cell_type": "markdown",
   "id": "4b07778c",
   "metadata": {},
   "source": [
    "## 슬라이싱"
   ]
  },
  {
   "cell_type": "code",
   "execution_count": 48,
   "id": "be6f246b",
   "metadata": {},
   "outputs": [
    {
     "data": {
      "text/plain": [
       "['화', '목']"
      ]
     },
     "execution_count": 48,
     "metadata": {},
     "output_type": "execute_result"
    }
   ],
   "source": [
    "day[1:4:2]"
   ]
  },
  {
   "cell_type": "code",
   "execution_count": 49,
   "id": "09505fb1",
   "metadata": {},
   "outputs": [
    {
     "data": {
      "text/plain": [
       "['화', '수']"
      ]
     },
     "execution_count": 49,
     "metadata": {},
     "output_type": "execute_result"
    }
   ],
   "source": [
    "day[1:3]"
   ]
  },
  {
   "cell_type": "code",
   "execution_count": 50,
   "id": "d0a33f16",
   "metadata": {},
   "outputs": [
    {
     "data": {
      "text/plain": [
       "['수', '목', '금', '토']"
      ]
     },
     "execution_count": 50,
     "metadata": {},
     "output_type": "execute_result"
    }
   ],
   "source": [
    "day[-5:-1]"
   ]
  },
  {
   "cell_type": "code",
   "execution_count": 51,
   "id": "466b026a",
   "metadata": {},
   "outputs": [
    {
     "data": {
      "text/plain": [
       "['화', '수', '목', '금', '토']"
      ]
     },
     "execution_count": 51,
     "metadata": {},
     "output_type": "execute_result"
    }
   ],
   "source": [
    "day[1:-1]"
   ]
  },
  {
   "cell_type": "code",
   "execution_count": 52,
   "id": "9006168e",
   "metadata": {},
   "outputs": [
    {
     "data": {
      "text/plain": [
       "['화', '수', '목', '금', '토', '일']"
      ]
     },
     "execution_count": 52,
     "metadata": {},
     "output_type": "execute_result"
    }
   ],
   "source": [
    "day[1:]"
   ]
  },
  {
   "cell_type": "code",
   "execution_count": 53,
   "id": "4ce059c4",
   "metadata": {},
   "outputs": [
    {
     "data": {
      "text/plain": [
       "['화', '금']"
      ]
     },
     "execution_count": 53,
     "metadata": {},
     "output_type": "execute_result"
    }
   ],
   "source": [
    "day[1:7:3]"
   ]
  },
  {
   "cell_type": "code",
   "execution_count": 54,
   "id": "001619c9",
   "metadata": {},
   "outputs": [
    {
     "data": {
      "text/plain": [
       "['월', '목']"
      ]
     },
     "execution_count": 54,
     "metadata": {},
     "output_type": "execute_result"
    }
   ],
   "source": [
    "day[-7:-1:3]"
   ]
  },
  {
   "cell_type": "code",
   "execution_count": 55,
   "id": "93377c2a",
   "metadata": {},
   "outputs": [
    {
     "data": {
      "text/plain": [
       "['일', '토', '금', '목', '수', '화', '월']"
      ]
     },
     "execution_count": 55,
     "metadata": {},
     "output_type": "execute_result"
    }
   ],
   "source": [
    "day[::-1]"
   ]
  },
  {
   "cell_type": "code",
   "execution_count": 56,
   "id": "4875aa30",
   "metadata": {},
   "outputs": [
    {
     "data": {
      "text/plain": [
       "['일', '금', '수', '월']"
      ]
     },
     "execution_count": 56,
     "metadata": {},
     "output_type": "execute_result"
    }
   ],
   "source": [
    "day[-1:-8:-2]"
   ]
  },
  {
   "cell_type": "code",
   "execution_count": null,
   "id": "eab27dc4",
   "metadata": {},
   "outputs": [],
   "source": []
  },
  {
   "cell_type": "code",
   "execution_count": null,
   "id": "3fc2d1dc",
   "metadata": {},
   "outputs": [],
   "source": []
  }
 ],
 "metadata": {
  "kernelspec": {
   "display_name": "Python 3 (ipykernel)",
   "language": "python",
   "name": "python3"
  },
  "language_info": {
   "codemirror_mode": {
    "name": "ipython",
    "version": 3
   },
   "file_extension": ".py",
   "mimetype": "text/x-python",
   "name": "python",
   "nbconvert_exporter": "python",
   "pygments_lexer": "ipython3",
   "version": "3.9.13"
  }
 },
 "nbformat": 4,
 "nbformat_minor": 5
}
